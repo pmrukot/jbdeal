{
 "cells": [
  {
   "cell_type": "code",
   "execution_count": 73,
   "metadata": {
    "collapsed": false
   },
   "outputs": [],
   "source": [
    "from redeal import *\n",
    "\n",
    "# Includes 5Major (?)\n",
    "balanced = Shape(\"(4333)\") + Shape(\"(4432)\") + Shape(\"(5332)\")\n",
    "\n",
    "# W: 1NT - E: 3NT (?)\n",
    "def accept(deal):\n",
    "    west = deal.west.shape in balanced and deal.west.hcp <= 17 and deal.west.hcp >= 15\n",
    "    east = deal.east.shape in balanced and deal.east.hcp <= 12 and deal.east.hcp >= 9\n",
    "    return west and east\n",
    "\n",
    "# N has the lead\n",
    "predeal = {\"N\": \"Q7 53 KJT32 QJ98\"}\n",
    "\n",
    "dealer = Deal.prepare(predeal)"
   ]
  },
  {
   "cell_type": "code",
   "execution_count": 74,
   "metadata": {
    "collapsed": false
   },
   "outputs": [
    {
     "name": "stdout",
     "output_type": "stream",
     "text": [
      "\t♠Q\t♠7\t♡5\t♡3\t♢K\t♢J\t♢3\t♣Q\t♣9\t\n",
      "♠Q\t\t\u001b[1m\u001b[32m+0.03\u001b[0m\t\u001b[1m\u001b[31m-0.33\u001b[0m\t\u001b[1m\u001b[31m-0.33\u001b[0m\t\u001b[1m\u001b[31m-0.42\u001b[0m\t\u001b[1m\u001b[31m-0.79\u001b[0m\t\u001b[1m\u001b[31m-0.68\u001b[0m\t\u001b[1m\u001b[31m-1.14\u001b[0m\t\u001b[1m\u001b[31m-0.74\u001b[0m\n",
      "\t\t(0.01)\t(0.03)\t(0.03)\t(0.04)\t(0.04)\t(0.04)\t(0.03)\t(0.04)\n",
      "♠7\t\u001b[1m\u001b[31m-0.03\u001b[0m\t\t\u001b[1m\u001b[31m-0.36\u001b[0m\t\u001b[1m\u001b[31m-0.36\u001b[0m\t\u001b[1m\u001b[31m-0.44\u001b[0m\t\u001b[1m\u001b[31m-0.81\u001b[0m\t\u001b[1m\u001b[31m-0.71\u001b[0m\t\u001b[1m\u001b[31m-1.17\u001b[0m\t\u001b[1m\u001b[31m-0.76\u001b[0m\n",
      "\t(0.01)\t\t(0.03)\t(0.03)\t(0.04)\t(0.04)\t(0.04)\t(0.03)\t(0.04)\n",
      "♡5\t\u001b[1m\u001b[32m+0.33\u001b[0m\t\u001b[1m\u001b[32m+0.36\u001b[0m\t\t+0.00\u001b[0m\t\u001b[1m\u001b[31m-0.10\u001b[0m\t\u001b[1m\u001b[31m-0.46\u001b[0m\t\u001b[1m\u001b[31m-0.35\u001b[0m\t\u001b[1m\u001b[31m-0.83\u001b[0m\t\u001b[1m\u001b[31m-0.42\u001b[0m\n",
      "\t(0.03)\t(0.03)\t\t(0.00)\t(0.04)\t(0.04)\t(0.04)\t(0.03)\t(0.03)\n",
      "♡3\t\u001b[1m\u001b[32m+0.33\u001b[0m\t\u001b[1m\u001b[32m+0.36\u001b[0m\t+0.00\u001b[0m\t\t\u001b[1m\u001b[31m-0.10\u001b[0m\t\u001b[1m\u001b[31m-0.46\u001b[0m\t\u001b[1m\u001b[31m-0.35\u001b[0m\t\u001b[1m\u001b[31m-0.83\u001b[0m\t\u001b[1m\u001b[31m-0.42\u001b[0m\n",
      "\t(0.03)\t(0.03)\t(0.00)\t\t(0.04)\t(0.04)\t(0.04)\t(0.03)\t(0.03)\n",
      "♢K\t\u001b[1m\u001b[32m+0.42\u001b[0m\t\u001b[1m\u001b[32m+0.44\u001b[0m\t\u001b[1m\u001b[32m+0.10\u001b[0m\t\u001b[1m\u001b[32m+0.10\u001b[0m\t\t\u001b[1m\u001b[31m-0.38\u001b[0m\t\u001b[1m\u001b[31m-0.26\u001b[0m\t\u001b[1m\u001b[31m-0.70\u001b[0m\t\u001b[1m\u001b[31m-0.31\u001b[0m\n",
      "\t(0.04)\t(0.04)\t(0.04)\t(0.04)\t\t(0.02)\t(0.02)\t(0.03)\t(0.03)\n",
      "♢J\t\u001b[1m\u001b[32m+0.79\u001b[0m\t\u001b[1m\u001b[32m+0.81\u001b[0m\t\u001b[1m\u001b[32m+0.46\u001b[0m\t\u001b[1m\u001b[32m+0.46\u001b[0m\t\u001b[1m\u001b[32m+0.38\u001b[0m\t\t\u001b[1m\u001b[32m+0.11\u001b[0m\t\u001b[1m\u001b[31m-0.33\u001b[0m\t\u001b[1m\u001b[32m+0.06\u001b[0m\n",
      "\t(0.04)\t(0.04)\t(0.04)\t(0.04)\t(0.02)\t\t(0.02)\t(0.03)\t(0.03)\n",
      "♢3\t\u001b[1m\u001b[32m+0.68\u001b[0m\t\u001b[1m\u001b[32m+0.71\u001b[0m\t\u001b[1m\u001b[32m+0.35\u001b[0m\t\u001b[1m\u001b[32m+0.35\u001b[0m\t\u001b[1m\u001b[32m+0.26\u001b[0m\t\u001b[1m\u001b[31m-0.11\u001b[0m\t\t\u001b[1m\u001b[31m-0.44\u001b[0m\t\u001b[1m\u001b[31m-0.05\u001b[0m\n",
      "\t(0.04)\t(0.04)\t(0.04)\t(0.04)\t(0.02)\t(0.02)\t\t(0.03)\t(0.03)\n",
      "♣Q\t\u001b[1m\u001b[32m+1.14\u001b[0m\t\u001b[1m\u001b[32m+1.17\u001b[0m\t\u001b[1m\u001b[32m+0.83\u001b[0m\t\u001b[1m\u001b[32m+0.83\u001b[0m\t\u001b[1m\u001b[32m+0.70\u001b[0m\t\u001b[1m\u001b[32m+0.33\u001b[0m\t\u001b[1m\u001b[32m+0.44\u001b[0m\t\t\u001b[1m\u001b[32m+0.42\u001b[0m\n",
      "\t(0.03)\t(0.03)\t(0.03)\t(0.03)\t(0.03)\t(0.03)\t(0.03)\t\t(0.02)\n",
      "♣9\t\u001b[1m\u001b[32m+0.74\u001b[0m\t\u001b[1m\u001b[32m+0.76\u001b[0m\t\u001b[1m\u001b[32m+0.42\u001b[0m\t\u001b[1m\u001b[32m+0.42\u001b[0m\t\u001b[1m\u001b[32m+0.31\u001b[0m\t\u001b[1m\u001b[31m-0.06\u001b[0m\t\u001b[1m\u001b[32m+0.05\u001b[0m\t\u001b[1m\u001b[31m-0.42\u001b[0m\t\n",
      "\t(0.04)\t(0.04)\t(0.03)\t(0.03)\t(0.03)\t(0.03)\t(0.03)\t(0.02)\t\n"
     ]
    }
   ],
   "source": [
    "simulation = OpeningLeadSim(accept, \"3NW\", imps)\n",
    "simulation.initial(dealer)\n",
    "for i in range(10000):\n",
    "    simulation.do(dealer())\n",
    "simulation.final(0)"
   ]
  },
  {
   "cell_type": "code",
   "execution_count": 75,
   "metadata": {
    "collapsed": false
   },
   "outputs": [
    {
     "name": "stdout",
     "output_type": "stream",
     "text": [
      "\t♠Q\t♠7\t♡5\t♡3\t♢K\t♢J\t♢3\t♣Q\t♣9\t\n",
      "♠Q\t\t\u001b[1m\u001b[32m+0.02\u001b[0m\t\u001b[1m\u001b[31m-0.10\u001b[0m\t\u001b[1m\u001b[31m-0.10\u001b[0m\t\u001b[1m\u001b[31m-0.01\u001b[0m\t\u001b[1m\u001b[31m-0.09\u001b[0m\t\u001b[1m\u001b[31m-0.05\u001b[0m\t\u001b[1m\u001b[31m-0.22\u001b[0m\t\u001b[1m\u001b[31m-0.08\u001b[0m\n",
      "\t\t(0.00)\t(0.01)\t(0.01)\t(0.01)\t(0.01)\t(0.01)\t(0.01)\t(0.01)\n",
      "♠7\t\u001b[1m\u001b[31m-0.02\u001b[0m\t\t\u001b[1m\u001b[31m-0.12\u001b[0m\t\u001b[1m\u001b[31m-0.12\u001b[0m\t\u001b[1m\u001b[31m-0.03\u001b[0m\t\u001b[1m\u001b[31m-0.10\u001b[0m\t\u001b[1m\u001b[31m-0.07\u001b[0m\t\u001b[1m\u001b[31m-0.24\u001b[0m\t\u001b[1m\u001b[31m-0.10\u001b[0m\n",
      "\t(0.00)\t\t(0.01)\t(0.01)\t(0.01)\t(0.01)\t(0.01)\t(0.01)\t(0.01)\n",
      "♡5\t\u001b[1m\u001b[32m+0.10\u001b[0m\t\u001b[1m\u001b[32m+0.12\u001b[0m\t\t\u001b[1m\u001b[31m-0.00\u001b[0m\t\u001b[1m\u001b[32m+0.09\u001b[0m\t\u001b[1m\u001b[32m+0.01\u001b[0m\t\u001b[1m\u001b[32m+0.05\u001b[0m\t\u001b[1m\u001b[31m-0.13\u001b[0m\t\u001b[1m\u001b[32m+0.02\u001b[0m\n",
      "\t(0.01)\t(0.01)\t\t(0.00)\t(0.01)\t(0.01)\t(0.01)\t(0.01)\t(0.01)\n",
      "♡3\t\u001b[1m\u001b[32m+0.10\u001b[0m\t\u001b[1m\u001b[32m+0.12\u001b[0m\t\u001b[1m\u001b[32m+0.00\u001b[0m\t\t\u001b[1m\u001b[32m+0.09\u001b[0m\t\u001b[1m\u001b[32m+0.01\u001b[0m\t\u001b[1m\u001b[32m+0.05\u001b[0m\t\u001b[1m\u001b[31m-0.13\u001b[0m\t\u001b[1m\u001b[32m+0.02\u001b[0m\n",
      "\t(0.01)\t(0.01)\t(0.00)\t\t(0.01)\t(0.01)\t(0.01)\t(0.01)\t(0.01)\n",
      "♢K\t\u001b[1m\u001b[32m+0.01\u001b[0m\t\u001b[1m\u001b[32m+0.03\u001b[0m\t\u001b[1m\u001b[31m-0.09\u001b[0m\t\u001b[1m\u001b[31m-0.09\u001b[0m\t\t\u001b[1m\u001b[31m-0.09\u001b[0m\t\u001b[1m\u001b[31m-0.04\u001b[0m\t\u001b[1m\u001b[31m-0.20\u001b[0m\t\u001b[1m\u001b[31m-0.07\u001b[0m\n",
      "\t(0.01)\t(0.01)\t(0.01)\t(0.01)\t\t(0.00)\t(0.00)\t(0.01)\t(0.01)\n",
      "♢J\t\u001b[1m\u001b[32m+0.09\u001b[0m\t\u001b[1m\u001b[32m+0.10\u001b[0m\t\u001b[1m\u001b[31m-0.01\u001b[0m\t\u001b[1m\u001b[31m-0.01\u001b[0m\t\u001b[1m\u001b[32m+0.09\u001b[0m\t\t\u001b[1m\u001b[32m+0.03\u001b[0m\t\u001b[1m\u001b[31m-0.11\u001b[0m\t\u001b[1m\u001b[32m+0.01\u001b[0m\n",
      "\t(0.01)\t(0.01)\t(0.01)\t(0.01)\t(0.00)\t\t(0.00)\t(0.01)\t(0.01)\n",
      "♢3\t\u001b[1m\u001b[32m+0.05\u001b[0m\t\u001b[1m\u001b[32m+0.07\u001b[0m\t\u001b[1m\u001b[31m-0.05\u001b[0m\t\u001b[1m\u001b[31m-0.05\u001b[0m\t\u001b[1m\u001b[32m+0.04\u001b[0m\t\u001b[1m\u001b[31m-0.03\u001b[0m\t\t\u001b[1m\u001b[31m-0.14\u001b[0m\t\u001b[1m\u001b[31m-0.02\u001b[0m\n",
      "\t(0.01)\t(0.01)\t(0.01)\t(0.01)\t(0.00)\t(0.00)\t\t(0.01)\t(0.01)\n",
      "♣Q\t\u001b[1m\u001b[32m+0.22\u001b[0m\t\u001b[1m\u001b[32m+0.24\u001b[0m\t\u001b[1m\u001b[32m+0.13\u001b[0m\t\u001b[1m\u001b[32m+0.13\u001b[0m\t\u001b[1m\u001b[32m+0.20\u001b[0m\t\u001b[1m\u001b[32m+0.11\u001b[0m\t\u001b[1m\u001b[32m+0.14\u001b[0m\t\t\u001b[1m\u001b[32m+0.16\u001b[0m\n",
      "\t(0.01)\t(0.01)\t(0.01)\t(0.01)\t(0.01)\t(0.01)\t(0.01)\t\t(0.00)\n",
      "♣9\t\u001b[1m\u001b[32m+0.08\u001b[0m\t\u001b[1m\u001b[32m+0.10\u001b[0m\t\u001b[1m\u001b[31m-0.02\u001b[0m\t\u001b[1m\u001b[31m-0.02\u001b[0m\t\u001b[1m\u001b[32m+0.07\u001b[0m\t\u001b[1m\u001b[31m-0.01\u001b[0m\t\u001b[1m\u001b[32m+0.02\u001b[0m\t\u001b[1m\u001b[31m-0.16\u001b[0m\t\n",
      "\t(0.01)\t(0.01)\t(0.01)\t(0.01)\t(0.01)\t(0.01)\t(0.01)\t(0.00)\t\n"
     ]
    }
   ],
   "source": [
    "simulation = OpeningLeadSim(accept, \"3NW\", matchpoints)\n",
    "simulation.initial(dealer)\n",
    "for i in range(10000):\n",
    "    simulation.do(dealer())\n",
    "simulation.final(0)"
   ]
  }
 ],
 "metadata": {
  "kernelspec": {
   "display_name": "Python 3",
   "language": "python",
   "name": "python3"
  },
  "language_info": {
   "codemirror_mode": {
    "name": "ipython",
    "version": 3
   },
   "file_extension": ".py",
   "mimetype": "text/x-python",
   "name": "python",
   "nbconvert_exporter": "python",
   "pygments_lexer": "ipython3",
   "version": "3.6.4"
  }
 },
 "nbformat": 4,
 "nbformat_minor": 1
}
