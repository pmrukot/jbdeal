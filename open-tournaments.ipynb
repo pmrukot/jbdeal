{
 "cells": [
  {
   "cell_type": "code",
   "execution_count": 44,
   "metadata": {
    "collapsed": false
   },
   "outputs": [],
   "source": [
    "from collections import defaultdict\n",
    "from urllib.request import urlopen\n",
    "from bs4 import BeautifulSoup\n",
    "import re\n",
    "import csv"
   ]
  },
  {
   "cell_type": "code",
   "execution_count": 45,
   "metadata": {
    "collapsed": true
   },
   "outputs": [],
   "source": [
    "BASE_URL = 'http://mzbs.pl'\n",
    "MONDAY_TOURNAMENTS_URL = BASE_URL + '/wyniki/41'\n",
    "WEDNESDAY_TOURNAMENTS_URL = BASE_URL + '/wyniki/43'\n",
    "\n",
    "LAST_SLASH_RE = '[^/]+$'\n",
    "DATE_RE = '\\d+\\-\\d+\\-\\d+'\n",
    "RESULTS_SUFIX = 'wyn.html'"
   ]
  },
  {
   "cell_type": "code",
   "execution_count": 46,
   "metadata": {
    "collapsed": true
   },
   "outputs": [],
   "source": [
    "def generate_tournament_urls(tournament_page_url):\n",
    "    results_page_html = urlopen(tournament_page_url)\n",
    "    soup = BeautifulSoup(results_page_html, 'html')\n",
    "    result_anchors = soup.ul.findAll('a')\n",
    "    urls = [a['href'] if BASE_URL in a['href'] else BASE_URL + a['href'] for a in result_anchors]\n",
    "    urls = [re.sub(LAST_SLASH_RE, RESULTS_SUFIX, a) for a in urls]\n",
    "    return [a for a in urls if '2018' in a]"
   ]
  },
  {
   "cell_type": "code",
   "execution_count": 47,
   "metadata": {
    "collapsed": false
   },
   "outputs": [],
   "source": [
    "def has_participated(player_name, tournament_table):\n",
    "    results_row = [table_row for table_row in tournament_table if player_name in str(table_row)]\n",
    "    if len(results_row) is not 1:\n",
    "        return None\n",
    "    return results_row[0]\n",
    "\n",
    "def get_date(soup):\n",
    "    return re.search(DATE_RE, str(soup.h4)).group(0)\n",
    "\n",
    "def get_number_of_pairs(tournament_table):\n",
    "    return len(tournament_table) - 1\n",
    "\n",
    "def get_place_in_tournament(tournament_table, results_row):\n",
    "    return tournament_table.index(results_row)\n",
    "\n",
    "def get_partner_name(row, player_name):\n",
    "    names = [entry for entry in row.findAll('td') if player_name in str(entry)][0].a.contents\n",
    "    names = [str(name) for name in names]\n",
    "    return \"\".join(names).replace('<br/>', '').replace(player_name, '')\n",
    "\n",
    "def build_entry(player_name, partner_name, place_in_tournament, number_of_pairs, date, url):\n",
    "    return {\n",
    "        'name': player_name,\n",
    "        'partner_name': partner_name,\n",
    "        'place': str(place_in_tournament) + '/' + str(number_of_pairs),\n",
    "        'date': date,\n",
    "        'url': url\n",
    "    }"
   ]
  },
  {
   "cell_type": "code",
   "execution_count": 48,
   "metadata": {
    "collapsed": true
   },
   "outputs": [],
   "source": [
    "def get_results(players, urls):\n",
    "    results = defaultdict(list)\n",
    "    \n",
    "    for url in urls:\n",
    "        html = urlopen(url)\n",
    "        soup = BeautifulSoup(html, 'html')\n",
    "        \n",
    "        for player_name in players:\n",
    "            tournament_table = soup.table.findAll('tr')\n",
    "            results_row = has_participated(player_name, tournament_table)\n",
    "\n",
    "            if not results_row:\n",
    "                continue\n",
    "            \n",
    "            date = get_date(soup)\n",
    "            number_of_pairs = get_number_of_pairs(tournament_table)\n",
    "            place_in_tournament = get_place_in_tournament(tournament_table, results_row)\n",
    "            partner_name = get_partner_name(results_row, player_name)\n",
    "\n",
    "            entry = build_entry(player_name, partner_name, place_in_tournament, number_of_pairs, date, url)\n",
    "\n",
    "            results[player_name].append(entry)\n",
    "        \n",
    "    for key in results.keys():\n",
    "        results[key] = results[key][::-1]\n",
    "    \n",
    "    return results"
   ]
  },
  {
   "cell_type": "code",
   "execution_count": 49,
   "metadata": {
    "collapsed": false
   },
   "outputs": [],
   "source": [
    "urls_monday_2018 = generate_tournament_urls(MONDAY_TOURNAMENTS_URL)\n",
    "urls_wednesday_2018 = generate_tournament_urls(WEDNESDAY_TOURNAMENTS_URL)"
   ]
  },
  {
   "cell_type": "code",
   "execution_count": 50,
   "metadata": {
    "collapsed": true
   },
   "outputs": [],
   "source": [
    "urls = urls_monday_2018 + urls_wednesday_2018\n",
    "players = [\n",
    "    'Lech Adamus', \n",
    "    'Łukasz Baniak',\n",
    "    'Anna Burda',\n",
    "    'Aleksandra Byra',\n",
    "    'Krzysztof Cetera',\n",
    "    'Mateusz Dominik',\n",
    "    'Wojciech Garncarz',\n",
    "    'Błażej Krawczyk'\n",
    "    'Przemysław Kurzak',\n",
    "    'Albert Mosiałek',\n",
    "    'Patryk Mrukot',\n",
    "    'Krzysztof Piotrowski',\n",
    "    'Maciej Śliwiński',\n",
    "    'Piotr Wzorek',\n",
    "]"
   ]
  },
  {
   "cell_type": "code",
   "execution_count": 51,
   "metadata": {
    "collapsed": false
   },
   "outputs": [],
   "source": [
    "total_results = get_results(players, urls)"
   ]
  },
  {
   "cell_type": "code",
   "execution_count": 52,
   "metadata": {
    "collapsed": true
   },
   "outputs": [],
   "source": [
    "flattened_results = []\n",
    "for key in total_results.keys():\n",
    "    flattened_results += total_results[key]"
   ]
  },
  {
   "cell_type": "code",
   "execution_count": 54,
   "metadata": {
    "collapsed": false
   },
   "outputs": [],
   "source": [
    "with open('results.csv', mode='w') as csv_file:\n",
    "    fieldnames = ['name', 'partner_name', 'place', 'date', 'url']\n",
    "    writer = csv.DictWriter(csv_file, fieldnames=fieldnames)\n",
    "\n",
    "    writer.writeheader()\n",
    "    for row in flattened_results:\n",
    "        writer.writerow(row)"
   ]
  }
 ],
 "metadata": {
  "kernelspec": {
   "display_name": "jbdeal",
   "language": "python",
   "name": "jbdeal"
  },
  "language_info": {
   "codemirror_mode": {
    "name": "ipython",
    "version": 3
   },
   "file_extension": ".py",
   "mimetype": "text/x-python",
   "name": "python",
   "nbconvert_exporter": "python",
   "pygments_lexer": "ipython3",
   "version": "3.6.4"
  }
 },
 "nbformat": 4,
 "nbformat_minor": 1
}
