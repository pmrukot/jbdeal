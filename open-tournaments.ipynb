{
 "cells": [
  {
   "cell_type": "code",
   "execution_count": 38,
   "metadata": {
    "collapsed": false
   },
   "outputs": [],
   "source": [
    "from urllib.request import urlopen\n",
    "from bs4 import BeautifulSoup\n",
    "import re"
   ]
  },
  {
   "cell_type": "code",
   "execution_count": 139,
   "metadata": {
    "collapsed": true
   },
   "outputs": [],
   "source": [
    "BASE_URL = 'http://mzbs.pl'\n",
    "MONDAY_TOURNAMENTS_URL = BASE_URL + '/wyniki/41'\n",
    "WEDNESDAY_TOURNAMENTS_URL = BASE_URL + '/wyniki/43'\n",
    "\n",
    "LAST_SLASH_RE = '[^/]+$'\n",
    "DATE_RE = '\\d+\\-\\d+\\-\\d+'\n",
    "RESULTS_SUFIX = 'wyn.html'"
   ]
  },
  {
   "cell_type": "code",
   "execution_count": 145,
   "metadata": {
    "collapsed": true
   },
   "outputs": [],
   "source": [
    "def generate_tournament_urls(tournament_page_url):\n",
    "    results_page_html = urlopen(tournament_page_url)\n",
    "    soup = BeautifulSoup(results_page_html, 'html')\n",
    "    result_anchors = soup.ul.findAll('a')\n",
    "    urls = [a['href'] if BASE_URL in a['href'] else BASE_URL + a['href'] for a in result_anchors]\n",
    "    urls = [re.sub(LAST_SLASH_RE, RESULTS_SUFIX, a) for a in urls]\n",
    "    return [a for a in urls if '2018' in a]"
   ]
  },
  {
   "cell_type": "code",
   "execution_count": 159,
   "metadata": {
    "collapsed": false
   },
   "outputs": [],
   "source": [
    "def get_partner_name(row, player_name):\n",
    "    names = [entry for entry in row.findAll('td') if player_name in str(entry)][0].a.contents\n",
    "    names = [str(name) for name in names]\n",
    "    return \"\".join(names).replace('<br/>', '').replace(player_name, '')"
   ]
  },
  {
   "cell_type": "code",
   "execution_count": 164,
   "metadata": {
    "collapsed": true
   },
   "outputs": [],
   "source": [
    "def get_results(player_name, urls):\n",
    "    results = []\n",
    "    \n",
    "    for url in urls:\n",
    "        html = urlopen(url)\n",
    "        soup = BeautifulSoup(html, 'html')\n",
    "\n",
    "        table_rows = soup.table.findAll('tr')\n",
    "        target_row = [table_row for table_row in table_rows if player_name in str(table_row)]\n",
    "        if len(target_row) is not 1:\n",
    "            continue;\n",
    "        target_row = target_row[0]\n",
    "\n",
    "        date = re.search(DATE_RE, str(soup.h4)).group(0)\n",
    "        number_of_pairs = len(table_rows) - 1\n",
    "        place_in_tournament = table_rows.index(target_row)\n",
    "        partner_name = get_partner_name(target_row, player_name)\n",
    "\n",
    "        entry = player_name + '|' + partner_name + '|' + str(place_in_tournament) + '/' + str(number_of_pairs) + '|' + date + '|' + url\n",
    "        results.append(entry)\n",
    "    \n",
    "    return results[::-1]"
   ]
  },
  {
   "cell_type": "code",
   "execution_count": 165,
   "metadata": {
    "collapsed": false
   },
   "outputs": [],
   "source": [
    "urls_monday_2018 = generate_tournament_urls(MONDAY_TOURNAMENTS_URL)\n",
    "urls_wednesday_2018 = generate_tournament_urls(WEDNESDAY_TOURNAMENTS_URL)"
   ]
  },
  {
   "cell_type": "code",
   "execution_count": 166,
   "metadata": {
    "collapsed": true
   },
   "outputs": [],
   "source": [
    "tournaments = [{'url': urls_monday_2018, 'name': 'Monday'}, {'url': urls_wednesday_2018, 'name': 'Wednesday'}]\n",
    "players = ['Patryk Mrukot', 'Lech Adamus', 'Łukasz Baniak']"
   ]
  },
  {
   "cell_type": "code",
   "execution_count": 167,
   "metadata": {
    "collapsed": false
   },
   "outputs": [
    {
     "name": "stdout",
     "output_type": "stream",
     "text": [
      "Patryk Mrukot - Monday\n",
      "Patryk Mrukot|Albert Mosiałek|22/24|2018-07-02|http://mzbs.pl/files/2018/wyniki/180702E/wyn.html\n",
      "Patryk Mrukot|Albert Mosiałek|5/34|2018-07-16|http://mzbs.pl/files/2018/wyniki/180716/wyn.html\n",
      "Patryk Mrukot|Albert Mosiałek|36/36|2018-07-23|http://mzbs.pl/files/2018/wyniki/180723PO/wyn.html\n",
      "Patryk Mrukot|Albert Mosiałek|24/40|2018-08-13|http://mzbs.pl/files/2018/wyniki/180813/wyn.html\n",
      "Patryk Mrukot|Albert Mosiałek|25/37|2018-08-20|http://mzbs.pl/files/2018/wyniki/180820/wyn.html\n",
      "Patryk Mrukot|Albert Mosiałek|27/35|2018-10-01|http://mzbs.pl/files/2018/wyniki/181001/wyn.html\n",
      "Patryk Mrukot|Łukasz Baniak|7/27|2018-10-08|http://mzbs.pl/files/2018/wyniki/181008/wyn.html\n",
      "Patryk Mrukot|Albert Mosiałek|31/31|2018-10-15|http://mzbs.pl/files/2018/wyniki/181015/wyn.html\n",
      "Patryk Mrukot|Albert Mosiałek|15/30|2018-11-12|http://mzbs.pl/files/2018/wyniki/181112/wyn.html\n",
      "=======================================\n",
      "Patryk Mrukot - Wednesday\n",
      "Patryk Mrukot|Albert Mosiałek|42/44|2018-04-04|http://mzbs.pl/files/2018/wyniki/180404/wyn.html\n",
      "Patryk Mrukot|Anna Burda|37/43|2018-05-16|http://mzbs.pl/files/2018/wyniki/180516/wyn.html\n",
      "Patryk Mrukot|Albert Mosiałek|39/44|2018-05-23|http://mzbs.pl/files/2018/wyniki/180523/wyn.html\n",
      "Patryk Mrukot|Albert Mosiałek|30/36|2018-05-30|http://mzbs.pl/files/2018/wyniki/180530/wyn.html\n",
      "Patryk Mrukot|Łukasz Baniak|37/39|2018-06-06|http://mzbs.pl/files/2018/wyniki/180606Z/wyn.html\n",
      "Patryk Mrukot|Piotr Wzorek|26/34|2018-07-04|http://mzbs.pl/files/2018/wyniki/180704/wyn.html\n",
      "Patryk Mrukot|Albert Mosiałek|10/27|2018-07-11|http://mzbs.pl/files/2018/wyniki/180711/wyn.html\n",
      "Patryk Mrukot|Albert Mosiałek|22/38|2018-07-18|http://mzbs.pl/files/2018/wyniki/180718/wyn.html\n",
      "Patryk Mrukot|Paweł Barczyk|32/32|2018-08-08|http://mzbs.pl/files/2018/wyniki/180808/wyn.html\n",
      "Patryk Mrukot|Albert Mosiałek|41/42|2018-08-22|http://mzbs.pl/files/2018/wyniki/180822/wyn.html\n",
      "Patryk Mrukot|Piotr Wzorek|32/38|2018-08-29|http://mzbs.pl/files/2018/wyniki/180829/wyn.html\n",
      "Patryk Mrukot|Albert Mosiałek|36/42|2018-10-24|http://mzbs.pl/files/2018/wyniki/181024/wyn.html\n",
      "Patryk Mrukot|Albert Mosiałek|33/56|2018-11-07|http://mzbs.pl/files/2018/wyniki/181107/wyn.html\n",
      "=======================================\n",
      "Lech Adamus - Monday\n",
      "Lech Adamus|Anna Burda|1/34|2018-05-14|http://mzbs.pl/files/2018/wyniki/180514/wyn.html\n",
      "Lech Adamus|Anna Burda|34/34|2018-05-28|http://mzbs.pl/files/2018/wyniki/180528/wyn.html\n",
      "Lech Adamus|Maciej Śliwiński|7/31|2018-07-09|http://mzbs.pl/files/2018/wyniki/180709/wyn.html\n",
      "Lech Adamus|Maciej Śliwiński|14/36|2018-07-23|http://mzbs.pl/files/2018/wyniki/180723PO/wyn.html\n",
      "Lech Adamus|Przemysław Kurzak|9/33|2018-07-30|http://mzbs.pl/files/2018/wyniki/180730/wyn.html\n",
      "Lech Adamus|Przemysław Kurzak|25/27|2018-10-08|http://mzbs.pl/files/2018/wyniki/181008/wyn.html\n",
      "=======================================\n",
      "Lech Adamus - Wednesday\n",
      "Lech Adamus|Dawid Adamski|39/45|2018-01-24|http://mzbs.pl/files/2018/wyniki/180124/wyn.html\n",
      "Lech Adamus|Przemysław Kurzak|12/43|2018-05-16|http://mzbs.pl/files/2018/wyniki/180516/wyn.html\n",
      "Lech Adamus|Anna Burda|33/44|2018-05-23|http://mzbs.pl/files/2018/wyniki/180523/wyn.html\n",
      "Lech Adamus|Anna Burda|16/38|2018-06-13|http://mzbs.pl/files/2018/wyniki/180613/wyn.html\n",
      "Lech Adamus|Maciej Śliwiński|12/27|2018-07-11|http://mzbs.pl/files/2018/wyniki/180711/wyn.html\n",
      "Lech Adamus|Maciej Śliwiński|41/43|2018-07-25|http://mzbs.pl/files/2018/wyniki/180725/wyn.html\n",
      "Lech Adamus|Anna Burda|37/42|2018-08-22|http://mzbs.pl/files/2018/wyniki/180822/wyn.html\n",
      "Lech Adamus|Anna Adamus|36/38|2018-08-29|http://mzbs.pl/files/2018/wyniki/180829/wyn.html\n",
      "Lech Adamus|Piotr Wzorek|38/39|2019-09-05|http://mzbs.pl/files/2018/wyniki/BAR0905/wyn.html\n",
      "Lech Adamus|Maciej Śliwiński|11/48|2018-10-03|http://mzbs.pl/files/2018/wyniki/181003/wyn.html\n",
      "Lech Adamus|Maciej Śliwiński|21/43|2018-10-10|http://mzbs.pl/files/2018/wyniki/181010/wyn.html\n",
      "Lech Adamus|Maciej Śliwiński|11/56|2018-11-07|http://mzbs.pl/files/2018/wyniki/181107/wyn.html\n",
      "=======================================\n",
      "Łukasz Baniak - Monday\n",
      "Łukasz Baniak|Patryk Mrukot|7/27|2018-10-08|http://mzbs.pl/files/2018/wyniki/181008/wyn.html\n",
      "Łukasz Baniak|Mateusz Dominik|14/31|2018-10-15|http://mzbs.pl/files/2018/wyniki/181015/wyn.html\n",
      "Łukasz Baniak|Mateusz Dominik|25/35|2018-11-05|http://mzbs.pl/files/2018/wyniki/181105/wyn.html\n",
      "=======================================\n",
      "Łukasz Baniak - Wednesday\n",
      "Łukasz Baniak|Piotr Wzorek|31/44|2018-05-23|http://mzbs.pl/files/2018/wyniki/180523/wyn.html\n",
      "Łukasz Baniak|Anna Burda|4/36|2018-05-30|http://mzbs.pl/files/2018/wyniki/180530/wyn.html\n",
      "Łukasz Baniak|Patryk Mrukot|37/39|2018-06-06|http://mzbs.pl/files/2018/wyniki/180606Z/wyn.html\n",
      "Łukasz Baniak|Mateusz Dominik|19/37|2018-06-20|http://mzbs.pl/files/2018/wyniki/180620/wyn.html\n",
      "Łukasz Baniak|Mateusz Dominik|6/42|2018-10-24|http://mzbs.pl/files/2018/wyniki/181024/wyn.html\n",
      "=======================================\n"
     ]
    }
   ],
   "source": [
    "for player in players:\n",
    "    for tournament in tournaments:\n",
    "        print(player + ' - ' + tournament['name'])\n",
    "        results = get_results(player, tournament['url'])\n",
    "        for result in results:\n",
    "            print(result)\n",
    "        print('=======================================')"
   ]
  }
 ],
 "metadata": {
  "kernelspec": {
   "display_name": "jbdeal",
   "language": "python",
   "name": "jbdeal"
  },
  "language_info": {
   "codemirror_mode": {
    "name": "ipython",
    "version": 3
   },
   "file_extension": ".py",
   "mimetype": "text/x-python",
   "name": "python",
   "nbconvert_exporter": "python",
   "pygments_lexer": "ipython3",
   "version": "3.6.4"
  }
 },
 "nbformat": 4,
 "nbformat_minor": 1
}
