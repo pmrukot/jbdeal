{
 "cells": [
  {
   "cell_type": "code",
   "execution_count": 6,
   "metadata": {
    "collapsed": true
   },
   "outputs": [],
   "source": [
    "from redeal import *\n",
    "\n",
    "# Includes 5Major (?)\n",
    "balanced = Shape(\"(4333)\") + Shape(\"(4432)\") + Shape(\"(5332)\")\n",
    "\n",
    "# W: 1NT - E: 3NT (?)\n",
    "def accept(deal):\n",
    "    west = deal.west.shape in balanced and deal.west.hcp <= 17 and deal.west.hcp >= 15\n",
    "    east = deal.east.shape in balanced and deal.east.hcp <= 9 and deal.east.hcp >= 8\n",
    "    return west and east\n",
    "\n",
    "# N has the lead\n",
    "predeal = {\"N\": \"AK97 52 T9874 QJ\"}\n",
    "\n",
    "dealer = Deal.prepare(predeal)"
   ]
  },
  {
   "cell_type": "code",
   "execution_count": 7,
   "metadata": {
    "collapsed": false
   },
   "outputs": [
    {
     "name": "stdout",
     "output_type": "stream",
     "text": [
      "\t♠A\t♠9\t♠7\t♡5\t♡2\t♢T\t♢4\t♣Q\t\n",
      "♠A\t\t\u001b[1m\u001b[32m+1.63\u001b[0m\t\u001b[1m\u001b[32m+1.55\u001b[0m\t\u001b[1m\u001b[32m+1.10\u001b[0m\t\u001b[1m\u001b[32m+1.10\u001b[0m\t\u001b[1m\u001b[32m+0.38\u001b[0m\t\u001b[1m\u001b[32m+0.51\u001b[0m\t\u001b[1m\u001b[32m+0.75\u001b[0m\n",
      "\t\t(0.03)\t(0.03)\t(0.03)\t(0.03)\t(0.03)\t(0.03)\t(0.03)\n",
      "♠9\t\u001b[1m\u001b[31m-1.63\u001b[0m\t\t\u001b[1m\u001b[31m-0.08\u001b[0m\t\u001b[1m\u001b[31m-0.62\u001b[0m\t\u001b[1m\u001b[31m-0.62\u001b[0m\t\u001b[1m\u001b[31m-1.29\u001b[0m\t\u001b[1m\u001b[31m-1.16\u001b[0m\t\u001b[1m\u001b[31m-0.95\u001b[0m\n",
      "\t(0.03)\t\t(0.01)\t(0.04)\t(0.04)\t(0.04)\t(0.04)\t(0.04)\n",
      "♠7\t\u001b[1m\u001b[31m-1.55\u001b[0m\t\u001b[1m\u001b[32m+0.08\u001b[0m\t\t\u001b[1m\u001b[31m-0.54\u001b[0m\t\u001b[1m\u001b[31m-0.54\u001b[0m\t\u001b[1m\u001b[31m-1.21\u001b[0m\t\u001b[1m\u001b[31m-1.08\u001b[0m\t\u001b[1m\u001b[31m-0.88\u001b[0m\n",
      "\t(0.03)\t(0.01)\t\t(0.04)\t(0.04)\t(0.04)\t(0.04)\t(0.04)\n",
      "♡5\t\u001b[1m\u001b[31m-1.10\u001b[0m\t\u001b[1m\u001b[32m+0.62\u001b[0m\t\u001b[1m\u001b[32m+0.54\u001b[0m\t\t+0.00\u001b[0m\t\u001b[1m\u001b[31m-0.72\u001b[0m\t\u001b[1m\u001b[31m-0.59\u001b[0m\t\u001b[1m\u001b[31m-0.36\u001b[0m\n",
      "\t(0.03)\t(0.04)\t(0.04)\t\t(0.00)\t(0.03)\t(0.03)\t(0.03)\n",
      "♡2\t\u001b[1m\u001b[31m-1.10\u001b[0m\t\u001b[1m\u001b[32m+0.62\u001b[0m\t\u001b[1m\u001b[32m+0.54\u001b[0m\t+0.00\u001b[0m\t\t\u001b[1m\u001b[31m-0.72\u001b[0m\t\u001b[1m\u001b[31m-0.59\u001b[0m\t\u001b[1m\u001b[31m-0.36\u001b[0m\n",
      "\t(0.03)\t(0.04)\t(0.04)\t(0.00)\t\t(0.03)\t(0.03)\t(0.03)\n",
      "♢T\t\u001b[1m\u001b[31m-0.38\u001b[0m\t\u001b[1m\u001b[32m+1.29\u001b[0m\t\u001b[1m\u001b[32m+1.21\u001b[0m\t\u001b[1m\u001b[32m+0.72\u001b[0m\t\u001b[1m\u001b[32m+0.72\u001b[0m\t\t\u001b[1m\u001b[32m+0.14\u001b[0m\t\u001b[1m\u001b[32m+0.36\u001b[0m\n",
      "\t(0.03)\t(0.04)\t(0.04)\t(0.03)\t(0.03)\t\t(0.01)\t(0.03)\n",
      "♢4\t\u001b[1m\u001b[31m-0.51\u001b[0m\t\u001b[1m\u001b[32m+1.16\u001b[0m\t\u001b[1m\u001b[32m+1.08\u001b[0m\t\u001b[1m\u001b[32m+0.59\u001b[0m\t\u001b[1m\u001b[32m+0.59\u001b[0m\t\u001b[1m\u001b[31m-0.14\u001b[0m\t\t\u001b[1m\u001b[32m+0.23\u001b[0m\n",
      "\t(0.03)\t(0.04)\t(0.04)\t(0.03)\t(0.03)\t(0.01)\t\t(0.03)\n",
      "♣Q\t\u001b[1m\u001b[31m-0.75\u001b[0m\t\u001b[1m\u001b[32m+0.95\u001b[0m\t\u001b[1m\u001b[32m+0.88\u001b[0m\t\u001b[1m\u001b[32m+0.36\u001b[0m\t\u001b[1m\u001b[32m+0.36\u001b[0m\t\u001b[1m\u001b[31m-0.36\u001b[0m\t\u001b[1m\u001b[31m-0.23\u001b[0m\t\n",
      "\t(0.03)\t(0.04)\t(0.04)\t(0.03)\t(0.03)\t(0.03)\t(0.03)\t\n"
     ]
    }
   ],
   "source": [
    "simulation = OpeningLeadSim(accept, \"3NW\", imps)\n",
    "simulation.initial(dealer)\n",
    "for i in range(10000):\n",
    "    simulation.do(dealer())\n",
    "simulation.final(0)"
   ]
  },
  {
   "cell_type": "code",
   "execution_count": 8,
   "metadata": {
    "collapsed": false
   },
   "outputs": [
    {
     "name": "stdout",
     "output_type": "stream",
     "text": [
      "\t♠A\t♠9\t♠7\t♡5\t♡2\t♢T\t♢4\t♣Q\t\n",
      "♠A\t\t\u001b[1m\u001b[32m+0.39\u001b[0m\t\u001b[1m\u001b[32m+0.36\u001b[0m\t\u001b[1m\u001b[32m+0.21\u001b[0m\t\u001b[1m\u001b[32m+0.21\u001b[0m\t\u001b[1m\u001b[32m+0.06\u001b[0m\t\u001b[1m\u001b[32m+0.09\u001b[0m\t\u001b[1m\u001b[32m+0.13\u001b[0m\n",
      "\t\t(0.01)\t(0.01)\t(0.01)\t(0.01)\t(0.01)\t(0.01)\t(0.01)\n",
      "♠9\t\u001b[1m\u001b[31m-0.39\u001b[0m\t\t\u001b[1m\u001b[31m-0.03\u001b[0m\t\u001b[1m\u001b[31m-0.26\u001b[0m\t\u001b[1m\u001b[31m-0.26\u001b[0m\t\u001b[1m\u001b[31m-0.37\u001b[0m\t\u001b[1m\u001b[31m-0.34\u001b[0m\t\u001b[1m\u001b[31m-0.32\u001b[0m\n",
      "\t(0.01)\t\t(0.00)\t(0.01)\t(0.01)\t(0.01)\t(0.01)\t(0.01)\n",
      "♠7\t\u001b[1m\u001b[31m-0.36\u001b[0m\t\u001b[1m\u001b[32m+0.03\u001b[0m\t\t\u001b[1m\u001b[31m-0.23\u001b[0m\t\u001b[1m\u001b[31m-0.23\u001b[0m\t\u001b[1m\u001b[31m-0.35\u001b[0m\t\u001b[1m\u001b[31m-0.31\u001b[0m\t\u001b[1m\u001b[31m-0.30\u001b[0m\n",
      "\t(0.01)\t(0.00)\t\t(0.01)\t(0.01)\t(0.01)\t(0.01)\t(0.01)\n",
      "♡5\t\u001b[1m\u001b[31m-0.21\u001b[0m\t\u001b[1m\u001b[32m+0.26\u001b[0m\t\u001b[1m\u001b[32m+0.23\u001b[0m\t\t+0.00\u001b[0m\t\u001b[1m\u001b[31m-0.16\u001b[0m\t\u001b[1m\u001b[31m-0.12\u001b[0m\t\u001b[1m\u001b[31m-0.09\u001b[0m\n",
      "\t(0.01)\t(0.01)\t(0.01)\t\t(0.00)\t(0.01)\t(0.01)\t(0.01)\n",
      "♡2\t\u001b[1m\u001b[31m-0.21\u001b[0m\t\u001b[1m\u001b[32m+0.26\u001b[0m\t\u001b[1m\u001b[32m+0.23\u001b[0m\t+0.00\u001b[0m\t\t\u001b[1m\u001b[31m-0.16\u001b[0m\t\u001b[1m\u001b[31m-0.12\u001b[0m\t\u001b[1m\u001b[31m-0.09\u001b[0m\n",
      "\t(0.01)\t(0.01)\t(0.01)\t(0.00)\t\t(0.01)\t(0.01)\t(0.01)\n",
      "♢T\t\u001b[1m\u001b[31m-0.06\u001b[0m\t\u001b[1m\u001b[32m+0.37\u001b[0m\t\u001b[1m\u001b[32m+0.35\u001b[0m\t\u001b[1m\u001b[32m+0.16\u001b[0m\t\u001b[1m\u001b[32m+0.16\u001b[0m\t\t\u001b[1m\u001b[32m+0.05\u001b[0m\t\u001b[1m\u001b[32m+0.07\u001b[0m\n",
      "\t(0.01)\t(0.01)\t(0.01)\t(0.01)\t(0.01)\t\t(0.00)\t(0.01)\n",
      "♢4\t\u001b[1m\u001b[31m-0.09\u001b[0m\t\u001b[1m\u001b[32m+0.34\u001b[0m\t\u001b[1m\u001b[32m+0.31\u001b[0m\t\u001b[1m\u001b[32m+0.12\u001b[0m\t\u001b[1m\u001b[32m+0.12\u001b[0m\t\u001b[1m\u001b[31m-0.05\u001b[0m\t\t\u001b[1m\u001b[32m+0.03\u001b[0m\n",
      "\t(0.01)\t(0.01)\t(0.01)\t(0.01)\t(0.01)\t(0.00)\t\t(0.01)\n",
      "♣Q\t\u001b[1m\u001b[31m-0.13\u001b[0m\t\u001b[1m\u001b[32m+0.32\u001b[0m\t\u001b[1m\u001b[32m+0.30\u001b[0m\t\u001b[1m\u001b[32m+0.09\u001b[0m\t\u001b[1m\u001b[32m+0.09\u001b[0m\t\u001b[1m\u001b[31m-0.07\u001b[0m\t\u001b[1m\u001b[31m-0.03\u001b[0m\t\n",
      "\t(0.01)\t(0.01)\t(0.01)\t(0.01)\t(0.01)\t(0.01)\t(0.01)\t\n"
     ]
    }
   ],
   "source": [
    "simulation = OpeningLeadSim(accept, \"3NW\", matchpoints)\n",
    "simulation.initial(dealer)\n",
    "for i in range(10000):\n",
    "    simulation.do(dealer())\n",
    "simulation.final(0)"
   ]
  },
  {
   "cell_type": "code",
   "execution_count": null,
   "metadata": {
    "collapsed": true
   },
   "outputs": [],
   "source": []
  }
 ],
 "metadata": {
  "kernelspec": {
   "display_name": "jbdeal",
   "language": "python",
   "name": "jbdeal"
  },
  "language_info": {
   "codemirror_mode": {
    "name": "ipython",
    "version": 3
   },
   "file_extension": ".py",
   "mimetype": "text/x-python",
   "name": "python",
   "nbconvert_exporter": "python",
   "pygments_lexer": "ipython3",
   "version": "3.6.4"
  }
 },
 "nbformat": 4,
 "nbformat_minor": 1
}
