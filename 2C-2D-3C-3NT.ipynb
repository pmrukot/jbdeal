{
 "cells": [
  {
   "cell_type": "code",
   "execution_count": 1,
   "metadata": {
    "collapsed": false
   },
   "outputs": [],
   "source": [
    "from redeal import *\n",
    "\n",
    "west_shape = Shape(\"xxx6\")\n",
    "\n",
    "# 2C - 2D - 3C - 3NT\n",
    "def accept(deal):\n",
    "    west = deal.west.shape in west_shape and deal.west.hcp <= 16 and deal.west.hcp >= 11\n",
    "    east = deal.east.hcp > 13\n",
    "    return west and east\n",
    "\n",
    "predeal = {\"S\": \"KJT3 87642 KT 32\"}\n",
    "\n",
    "dealer = Deal.prepare(predeal)"
   ]
  },
  {
   "cell_type": "code",
   "execution_count": 2,
   "metadata": {
    "collapsed": false
   },
   "outputs": [
    {
     "name": "stdout",
     "output_type": "stream",
     "text": [
      "\t♠K\t♠J\t♠3\t♡8\t♡4\t♡2\t♢K\t♢T\t♣3\t\n",
      "♠K\t\t\u001b[1m\u001b[31m-0.26\u001b[0m\t\u001b[1m\u001b[31m-0.14\u001b[0m\t\u001b[1m\u001b[31m-0.53\u001b[0m\t\u001b[1m\u001b[31m-0.53\u001b[0m\t\u001b[1m\u001b[31m-0.53\u001b[0m\t\u001b[1m\u001b[32m+0.67\u001b[0m\t\u001b[1m\u001b[32m+0.65\u001b[0m\t\u001b[1m\u001b[31m-0.13\u001b[0m\n",
      "\t\t(0.02)\t(0.02)\t(0.03)\t(0.03)\t(0.03)\t(0.03)\t(0.03)\t(0.03)\n",
      "♠J\t\u001b[1m\u001b[32m+0.26\u001b[0m\t\t\u001b[1m\u001b[32m+0.10\u001b[0m\t\u001b[1m\u001b[31m-0.29\u001b[0m\t\u001b[1m\u001b[31m-0.29\u001b[0m\t\u001b[1m\u001b[31m-0.28\u001b[0m\t\u001b[1m\u001b[32m+0.91\u001b[0m\t\u001b[1m\u001b[32m+0.89\u001b[0m\t\u001b[1m\u001b[32m+0.12\u001b[0m\n",
      "\t(0.02)\t\t(0.02)\t(0.03)\t(0.03)\t(0.03)\t(0.03)\t(0.03)\t(0.03)\n",
      "♠3\t\u001b[1m\u001b[32m+0.14\u001b[0m\t\u001b[1m\u001b[31m-0.10\u001b[0m\t\t\u001b[1m\u001b[31m-0.38\u001b[0m\t\u001b[1m\u001b[31m-0.38\u001b[0m\t\u001b[1m\u001b[31m-0.38\u001b[0m\t\u001b[1m\u001b[32m+0.82\u001b[0m\t\u001b[1m\u001b[32m+0.79\u001b[0m\t+0.02\u001b[0m\n",
      "\t(0.02)\t(0.02)\t\t(0.03)\t(0.03)\t(0.03)\t(0.03)\t(0.03)\t(0.03)\n",
      "♡8\t\u001b[1m\u001b[32m+0.53\u001b[0m\t\u001b[1m\u001b[32m+0.29\u001b[0m\t\u001b[1m\u001b[32m+0.38\u001b[0m\t\t\u001b[1m\u001b[32m+0.00\u001b[0m\t\u001b[1m\u001b[32m+0.00\u001b[0m\t\u001b[1m\u001b[32m+1.20\u001b[0m\t\u001b[1m\u001b[32m+1.19\u001b[0m\t\u001b[1m\u001b[32m+0.42\u001b[0m\n",
      "\t(0.03)\t(0.03)\t(0.03)\t\t(0.00)\t(0.00)\t(0.03)\t(0.03)\t(0.03)\n",
      "♡4\t\u001b[1m\u001b[32m+0.53\u001b[0m\t\u001b[1m\u001b[32m+0.29\u001b[0m\t\u001b[1m\u001b[32m+0.38\u001b[0m\t\u001b[1m\u001b[31m-0.00\u001b[0m\t\t\u001b[1m\u001b[32m+0.00\u001b[0m\t\u001b[1m\u001b[32m+1.20\u001b[0m\t\u001b[1m\u001b[32m+1.19\u001b[0m\t\u001b[1m\u001b[32m+0.42\u001b[0m\n",
      "\t(0.03)\t(0.03)\t(0.03)\t(0.00)\t\t(0.00)\t(0.03)\t(0.03)\t(0.03)\n",
      "♡2\t\u001b[1m\u001b[32m+0.53\u001b[0m\t\u001b[1m\u001b[32m+0.28\u001b[0m\t\u001b[1m\u001b[32m+0.38\u001b[0m\t\u001b[1m\u001b[31m-0.00\u001b[0m\t\u001b[1m\u001b[31m-0.00\u001b[0m\t\t\u001b[1m\u001b[32m+1.20\u001b[0m\t\u001b[1m\u001b[32m+1.19\u001b[0m\t\u001b[1m\u001b[32m+0.42\u001b[0m\n",
      "\t(0.03)\t(0.03)\t(0.03)\t(0.00)\t(0.00)\t\t(0.03)\t(0.03)\t(0.03)\n",
      "♢K\t\u001b[1m\u001b[31m-0.67\u001b[0m\t\u001b[1m\u001b[31m-0.91\u001b[0m\t\u001b[1m\u001b[31m-0.82\u001b[0m\t\u001b[1m\u001b[31m-1.20\u001b[0m\t\u001b[1m\u001b[31m-1.20\u001b[0m\t\u001b[1m\u001b[31m-1.20\u001b[0m\t\t\u001b[1m\u001b[31m-0.02\u001b[0m\t\u001b[1m\u001b[31m-0.80\u001b[0m\n",
      "\t(0.03)\t(0.03)\t(0.03)\t(0.03)\t(0.03)\t(0.03)\t\t(0.01)\t(0.03)\n",
      "♢T\t\u001b[1m\u001b[31m-0.65\u001b[0m\t\u001b[1m\u001b[31m-0.89\u001b[0m\t\u001b[1m\u001b[31m-0.79\u001b[0m\t\u001b[1m\u001b[31m-1.19\u001b[0m\t\u001b[1m\u001b[31m-1.19\u001b[0m\t\u001b[1m\u001b[31m-1.19\u001b[0m\t\u001b[1m\u001b[32m+0.02\u001b[0m\t\t\u001b[1m\u001b[31m-0.79\u001b[0m\n",
      "\t(0.03)\t(0.03)\t(0.03)\t(0.03)\t(0.03)\t(0.03)\t(0.01)\t\t(0.03)\n",
      "♣3\t\u001b[1m\u001b[32m+0.13\u001b[0m\t\u001b[1m\u001b[31m-0.12\u001b[0m\t-0.02\u001b[0m\t\u001b[1m\u001b[31m-0.42\u001b[0m\t\u001b[1m\u001b[31m-0.42\u001b[0m\t\u001b[1m\u001b[31m-0.42\u001b[0m\t\u001b[1m\u001b[32m+0.80\u001b[0m\t\u001b[1m\u001b[32m+0.79\u001b[0m\t\n",
      "\t(0.03)\t(0.03)\t(0.03)\t(0.03)\t(0.03)\t(0.03)\t(0.03)\t(0.03)\t\n"
     ]
    }
   ],
   "source": [
    "simulation = OpeningLeadSim(accept, \"3NE\", imps)\n",
    "simulation.initial(dealer)\n",
    "for i in range(10000):\n",
    "    simulation.do(dealer())\n",
    "simulation.final(0)"
   ]
  },
  {
   "cell_type": "code",
   "execution_count": 5,
   "metadata": {
    "collapsed": false
   },
   "outputs": [
    {
     "name": "stdout",
     "output_type": "stream",
     "text": [
      "\t♠K\t♠J\t♠3\t♡8\t♡4\t♡2\t♢K\t♢T\t♣3\t\n",
      "♠K\t\t\u001b[1m\u001b[31m-0.08\u001b[0m\t\u001b[1m\u001b[31m-0.02\u001b[0m\t\u001b[1m\u001b[31m-0.17\u001b[0m\t\u001b[1m\u001b[31m-0.17\u001b[0m\t\u001b[1m\u001b[31m-0.17\u001b[0m\t\u001b[1m\u001b[32m+0.13\u001b[0m\t\u001b[1m\u001b[32m+0.13\u001b[0m\t\u001b[1m\u001b[31m-0.10\u001b[0m\n",
      "\t\t(0.00)\t(0.00)\t(0.01)\t(0.01)\t(0.01)\t(0.01)\t(0.01)\t(0.01)\n",
      "♠J\t\u001b[1m\u001b[32m+0.08\u001b[0m\t\t\u001b[1m\u001b[32m+0.05\u001b[0m\t\u001b[1m\u001b[31m-0.10\u001b[0m\t\u001b[1m\u001b[31m-0.10\u001b[0m\t\u001b[1m\u001b[31m-0.10\u001b[0m\t\u001b[1m\u001b[32m+0.19\u001b[0m\t\u001b[1m\u001b[32m+0.19\u001b[0m\t\u001b[1m\u001b[31m-0.03\u001b[0m\n",
      "\t(0.00)\t\t(0.00)\t(0.01)\t(0.01)\t(0.01)\t(0.01)\t(0.01)\t(0.01)\n",
      "♠3\t\u001b[1m\u001b[32m+0.02\u001b[0m\t\u001b[1m\u001b[31m-0.05\u001b[0m\t\t\u001b[1m\u001b[31m-0.15\u001b[0m\t\u001b[1m\u001b[31m-0.15\u001b[0m\t\u001b[1m\u001b[31m-0.15\u001b[0m\t\u001b[1m\u001b[32m+0.15\u001b[0m\t\u001b[1m\u001b[32m+0.15\u001b[0m\t\u001b[1m\u001b[31m-0.08\u001b[0m\n",
      "\t(0.00)\t(0.00)\t\t(0.01)\t(0.01)\t(0.01)\t(0.01)\t(0.01)\t(0.01)\n",
      "♡8\t\u001b[1m\u001b[32m+0.17\u001b[0m\t\u001b[1m\u001b[32m+0.10\u001b[0m\t\u001b[1m\u001b[32m+0.15\u001b[0m\t\t\u001b[1m\u001b[32m+0.00\u001b[0m\t\u001b[1m\u001b[32m+0.00\u001b[0m\t\u001b[1m\u001b[32m+0.31\u001b[0m\t\u001b[1m\u001b[32m+0.31\u001b[0m\t\u001b[1m\u001b[32m+0.08\u001b[0m\n",
      "\t(0.01)\t(0.01)\t(0.01)\t\t(0.00)\t(0.00)\t(0.01)\t(0.01)\t(0.01)\n",
      "♡4\t\u001b[1m\u001b[32m+0.17\u001b[0m\t\u001b[1m\u001b[32m+0.10\u001b[0m\t\u001b[1m\u001b[32m+0.15\u001b[0m\t\u001b[1m\u001b[31m-0.00\u001b[0m\t\t\u001b[1m\u001b[32m+0.00\u001b[0m\t\u001b[1m\u001b[32m+0.31\u001b[0m\t\u001b[1m\u001b[32m+0.31\u001b[0m\t\u001b[1m\u001b[32m+0.08\u001b[0m\n",
      "\t(0.01)\t(0.01)\t(0.01)\t(0.00)\t\t(0.00)\t(0.01)\t(0.01)\t(0.01)\n",
      "♡2\t\u001b[1m\u001b[32m+0.17\u001b[0m\t\u001b[1m\u001b[32m+0.10\u001b[0m\t\u001b[1m\u001b[32m+0.15\u001b[0m\t\u001b[1m\u001b[31m-0.00\u001b[0m\t\u001b[1m\u001b[31m-0.00\u001b[0m\t\t\u001b[1m\u001b[32m+0.31\u001b[0m\t\u001b[1m\u001b[32m+0.31\u001b[0m\t\u001b[1m\u001b[32m+0.08\u001b[0m\n",
      "\t(0.01)\t(0.01)\t(0.01)\t(0.00)\t(0.00)\t\t(0.01)\t(0.01)\t(0.01)\n",
      "♢K\t\u001b[1m\u001b[31m-0.13\u001b[0m\t\u001b[1m\u001b[31m-0.19\u001b[0m\t\u001b[1m\u001b[31m-0.15\u001b[0m\t\u001b[1m\u001b[31m-0.31\u001b[0m\t\u001b[1m\u001b[31m-0.31\u001b[0m\t\u001b[1m\u001b[31m-0.31\u001b[0m\t\t+0.00\u001b[0m\t\u001b[1m\u001b[31m-0.25\u001b[0m\n",
      "\t(0.01)\t(0.01)\t(0.01)\t(0.01)\t(0.01)\t(0.01)\t\t(0.00)\t(0.01)\n",
      "♢T\t\u001b[1m\u001b[31m-0.13\u001b[0m\t\u001b[1m\u001b[31m-0.19\u001b[0m\t\u001b[1m\u001b[31m-0.15\u001b[0m\t\u001b[1m\u001b[31m-0.31\u001b[0m\t\u001b[1m\u001b[31m-0.31\u001b[0m\t\u001b[1m\u001b[31m-0.31\u001b[0m\t-0.00\u001b[0m\t\t\u001b[1m\u001b[31m-0.25\u001b[0m\n",
      "\t(0.01)\t(0.01)\t(0.01)\t(0.01)\t(0.01)\t(0.01)\t(0.00)\t\t(0.01)\n",
      "♣3\t\u001b[1m\u001b[32m+0.10\u001b[0m\t\u001b[1m\u001b[32m+0.03\u001b[0m\t\u001b[1m\u001b[32m+0.08\u001b[0m\t\u001b[1m\u001b[31m-0.08\u001b[0m\t\u001b[1m\u001b[31m-0.08\u001b[0m\t\u001b[1m\u001b[31m-0.08\u001b[0m\t\u001b[1m\u001b[32m+0.25\u001b[0m\t\u001b[1m\u001b[32m+0.25\u001b[0m\t\n",
      "\t(0.01)\t(0.01)\t(0.01)\t(0.01)\t(0.01)\t(0.01)\t(0.01)\t(0.01)\t\n"
     ]
    }
   ],
   "source": [
    "simulation = OpeningLeadSim(accept, \"3NE\", matchpoints)\n",
    "simulation.initial(dealer)\n",
    "for i in range(10000):\n",
    "    simulation.do(dealer())\n",
    "simulation.final(0)"
   ]
  },
  {
   "cell_type": "code",
   "execution_count": null,
   "metadata": {
    "collapsed": true
   },
   "outputs": [],
   "source": []
  }
 ],
 "metadata": {
  "kernelspec": {
   "display_name": "jbdeal",
   "language": "python",
   "name": "jbdeal"
  },
  "language_info": {
   "codemirror_mode": {
    "name": "ipython",
    "version": 3
   },
   "file_extension": ".py",
   "mimetype": "text/x-python",
   "name": "python",
   "nbconvert_exporter": "python",
   "pygments_lexer": "ipython3",
   "version": "3.6.4"
  }
 },
 "nbformat": 4,
 "nbformat_minor": 1
}
